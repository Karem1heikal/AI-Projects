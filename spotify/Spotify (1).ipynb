{
  "nbformat": 4,
  "nbformat_minor": 0,
  "metadata": {
    "colab": {
      "provenance": []
    },
    "kernelspec": {
      "name": "python3",
      "display_name": "Python 3"
    },
    "language_info": {
      "name": "python"
    }
  },
  "cells": [
    {
      "cell_type": "markdown",
      "source": [
        "# Exam Notebook: Spotify Songs Dataset Analysis\n",
        "\n",
        "\n",
        "\n",
        "\n",
        "\n"
      ],
      "metadata": {
        "id": "8u3y0concnPl"
      }
    },
    {
      "cell_type": "markdown",
      "source": [
        "## Part 1: Tasks\n",
        "\n",
        "---\n",
        "\n",
        "### 1. Load and Inspect the Data\n",
        "\n",
        "**Task 1.1: Load the dataset and display the first 5 rows.**\n",
        "\n",
        "**Task 1.2: Check the shape of the dataset (number of rows and columns).**\n",
        "\n",
        "**Task 1.3: Display the column names and data types.**\n",
        "\n",
        "**Task 1.4: Check for missing values in each column.**"
      ],
      "metadata": {
        "id": "zeVqLkWnWM-r"
      }
    },
    {
      "cell_type": "code",
      "execution_count": null,
      "metadata": {
        "id": "DNLqLsz4caSv"
      },
      "outputs": [],
      "source": []
    },
    {
      "cell_type": "markdown",
      "source": [
        "---\n",
        "\n",
        "### 2. Data Cleaning\n",
        "\n",
        "**Task 2.1: Handle missing values:**\n",
        "- Fill missing `artist_name` with \"Unknown\".\n",
        "- Drop rows with missing `popularity` or `duration_ms`.\n",
        "\n",
        "**Task 2.2: Convert `release_date` to datetime format.**\n",
        "\n",
        "**Task 2.3: Remove duplicate rows based on `track_name` and `artist_name`.\n",
        "\n",
        "**Task 2.4: Check for and handle outliers in `duration_ms` (e.g., songs shorter than 30 seconds or longer than 10 minutes).\n",
        "\n",
        "---\n"
      ],
      "metadata": {
        "id": "CC0EiUw1czAr"
      }
    },
    {
      "cell_type": "code",
      "source": [],
      "metadata": {
        "id": "XEx5gMM5c65-"
      },
      "execution_count": null,
      "outputs": []
    },
    {
      "cell_type": "markdown",
      "source": [
        "\n",
        "### 3. Exploratory Data Analysis (EDA)\n",
        "\n",
        "**Task 3.1: Analyze the distribution of `popularity`:**\n",
        "- Plot a histogram of `popularity`.\n",
        "- Calculate and display the mean, median, and standard deviation of `popularity`.\n",
        "\n",
        "**Task 3.2: Compare the average `duration_ms` of songs by year:**\n",
        "- Extract the release year from `release_date`.\n",
        "- Group by release year and calculate the average `duration_ms`.\n",
        "- Plot a line chart showing the trend over time.\n",
        "\n",
        "**Task 3.3: Identify the top 10 artists with the most songs:**\n",
        "- Count the number of songs per artist.\n",
        "- Plot a horizontal bar chart for the top 10 artists.\n",
        "\n",
        "**Task 3.4: Analyze the distribution of `key` and `mode`:**\n",
        "- Plot a bar chart for the frequency of each `key`.\n",
        "- Plot a pie chart for the distribution of `mode` (major/minor).\n"
      ],
      "metadata": {
        "id": "BK5-n5K1c7rX"
      }
    },
    {
      "cell_type": "code",
      "source": [],
      "metadata": {
        "id": "x0ViuG7rc--V"
      },
      "execution_count": null,
      "outputs": []
    },
    {
      "cell_type": "markdown",
      "source": [
        "\n",
        "---\n",
        "\n",
        "### 4. Feature Engineering\n",
        "\n",
        "**Task 4.1: Extract features from `release_date`:**\n",
        "- Create a new column `release_year` for the year.\n",
        "- Create a new column `release_month` for the month.\n",
        "\n",
        "**Task 4.2: Create a feature for the number of artists:**\n",
        "- If multiple artists are listed in `artist_name` (separated by commas), count the number of artists.\n",
        "- Create a new column `num_artists`.\n",
        "\n",
        "**Task 4.3: Encode categorical variables:**\n",
        "- Perform one-hot encoding for `key` and `mode`.\n",
        "\n",
        "**Task 4.4: Create a binary feature for popular songs:**\n",
        "- Define a song as \"popular\" if its `popularity` score is above 70.\n",
        "- Create a new column `is_popular` (1 for popular, 0 otherwise).\n",
        "\n"
      ],
      "metadata": {
        "id": "kpyCJXlWc_d1"
      }
    },
    {
      "cell_type": "code",
      "source": [],
      "metadata": {
        "id": "J2hEMJbEdBq_"
      },
      "execution_count": null,
      "outputs": []
    },
    {
      "cell_type": "markdown",
      "source": [
        "## Part 2: Questions\n"
      ],
      "metadata": {
        "id": "iw85pN0PdVrT"
      }
    },
    {
      "cell_type": "markdown",
      "source": [
        "### Data Cleaning Questions\n",
        "\n",
        "1. **How many missing values are there in the `artist_name` column? How did you handle them?**\n",
        "   - Write your answer here.\n",
        "\n",
        "2. **Are there any duplicate rows in the dataset? If yes, how many, and how did you handle them?**\n",
        "   - Write your answer here.\n",
        "\n",
        "3. **What is the range of `duration_ms`? Did you find any outliers? How did you handle them?**\n",
        "   - Write your answer here.\n",
        "\n",
        "---"
      ],
      "metadata": {
        "id": "hL9CkF7HdMvw"
      }
    },
    {
      "cell_type": "code",
      "source": [],
      "metadata": {
        "id": "v_spfGgydwRe"
      },
      "execution_count": null,
      "outputs": []
    },
    {
      "cell_type": "code",
      "source": [],
      "metadata": {
        "id": "KJ965keJdwPG"
      },
      "execution_count": null,
      "outputs": []
    },
    {
      "cell_type": "markdown",
      "source": [
        "### Exploratory Data Analysis (EDA) Questions\n",
        "\n",
        "4. **What is the distribution of song popularity? Plot a histogram and describe the trend.**\n",
        "   - Write your answer here.\n",
        "\n",
        "5. **Which year had the most songs released? Plot a bar chart to show the number of songs released each year.**\n",
        "   - Write your answer here.\n",
        "\n",
        "6. **What is the average duration of songs in milliseconds? How has the average duration changed over the years? Plot a line chart to show the trend.**\n",
        "   - Write your answer here.\n",
        "\n",
        "7. **Who are the top 5 artists with the most songs in the dataset? Plot a horizontal bar chart to visualize this.**\n",
        "   - Write your answer here.\n",
        "\n",
        "8. **What is the most common key for songs in the dataset? Plot a bar chart to show the frequency of each key.**\n",
        "   - Write your answer here.\n",
        "\n",
        "9. **What percentage of songs are in a major mode vs. a minor mode? Plot a pie chart to visualize this.**\n",
        "   - Write your answer here.\n",
        "\n",
        "   ---\n",
        "   "
      ],
      "metadata": {
        "id": "ezNwVX2ldboy"
      }
    },
    {
      "cell_type": "code",
      "source": [],
      "metadata": {
        "id": "YYMgQPoAdxQP"
      },
      "execution_count": null,
      "outputs": []
    },
    {
      "cell_type": "code",
      "source": [],
      "metadata": {
        "id": "TCBYfOfSdxOR"
      },
      "execution_count": null,
      "outputs": []
    },
    {
      "cell_type": "code",
      "source": [],
      "metadata": {
        "id": "2VFw1ALhdxLi"
      },
      "execution_count": null,
      "outputs": []
    },
    {
      "cell_type": "markdown",
      "source": [
        "\n",
        "### Insights and Interpretation Questions\n",
        "\n",
        "13. **What percentage of songs in the dataset are \"popular\" (based on your definition of popularity)?**\n",
        "    - Write your answer here.\n",
        "\n",
        "14. **Are there any trends in song duration over the years? For example, are songs getting shorter or longer?**\n",
        "    - Write your answer here.\n",
        "\n",
        "15. **Which artist has the most songs in the dataset? Is there a correlation between the number of songs and their popularity?**\n",
        "    - Write your answer here.\n",
        "\n",
        "16. **What is the most common key and mode for songs in the dataset? Do these factors influence song popularity?**\n",
        "    - Write your answer here."
      ],
      "metadata": {
        "id": "TMTVWuvxdllB"
      }
    },
    {
      "cell_type": "code",
      "source": [],
      "metadata": {
        "id": "5KCLFFYZdyUa"
      },
      "execution_count": null,
      "outputs": []
    },
    {
      "cell_type": "code",
      "source": [],
      "metadata": {
        "id": "agZceKE6dySK"
      },
      "execution_count": null,
      "outputs": []
    },
    {
      "cell_type": "code",
      "source": [],
      "metadata": {
        "id": "H85VZQJodFd1"
      },
      "execution_count": null,
      "outputs": []
    },
    {
      "cell_type": "markdown",
      "source": [
        "\n",
        "\n",
        "### Feature Engineering Questions\n",
        "\n",
        "10. **How did you create the `num_artists` feature? What does it represent, and why is it useful?**\n",
        "    - Write your answer here.\n",
        "\n",
        "11. **What new features did you extract from the `release_date` column? How do they help in analysis?**\n",
        "    - Write your answer here.\n",
        "\n",
        "12. **Did you create any binary features (e.g., `is_popular`)? If yes, how did you define them, and what insights do they provide?**\n",
        "    - Write your answer here.\n",
        "---"
      ],
      "metadata": {
        "id": "V-brfy6hdDTZ"
      }
    },
    {
      "cell_type": "code",
      "source": [],
      "metadata": {
        "id": "tL8MQjXZdzFl"
      },
      "execution_count": null,
      "outputs": []
    },
    {
      "cell_type": "code",
      "source": [],
      "metadata": {
        "id": "_R4ZNRwzdzDO"
      },
      "execution_count": null,
      "outputs": []
    },
    {
      "cell_type": "code",
      "source": [],
      "metadata": {
        "id": "RNZKBQHYdp-n"
      },
      "execution_count": null,
      "outputs": []
    }
  ]
}