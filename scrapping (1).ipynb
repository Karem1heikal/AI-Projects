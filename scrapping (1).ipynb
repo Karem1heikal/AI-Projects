{
  "nbformat": 4,
  "nbformat_minor": 0,
  "metadata": {
    "colab": {
      "provenance": []
    },
    "kernelspec": {
      "name": "python3",
      "display_name": "Python 3"
    },
    "language_info": {
      "name": "python"
    }
  },
  "cells": [
    {
      "cell_type": "code",
      "execution_count": null,
      "metadata": {
        "colab": {
          "base_uri": "https://localhost:8080/"
        },
        "id": "wrUipd5V-7n5",
        "outputId": "79bda516-63c8-420c-aa0b-3c3e6207f906"
      },
      "outputs": [
        {
          "output_type": "stream",
          "name": "stdout",
          "text": [
            "[{'jop state': 'We Work Remotely', 'jop_title': 'Sales Representative', 'jop_hour': 'Full-Time', 'company_region': 'Latin America Only'}, {'jop state': 'NoGigiddy', 'jop_title': 'Remote Sales Development Representative (SDR)', 'jop_hour': 'Full-Time', 'company_region': 'Anywhere in the World'}, {'jop state': 'WP All Import', 'jop_title': 'WP All Import: SEO Strategist & Writer', 'jop_hour': 'Full-Time', 'company_region': 'Anywhere in the World'}, {'jop state': 'Koinly', 'jop_title': 'Head of Marketing / Crypto', 'jop_hour': 'Full-Time', 'company_region': 'Europe Only'}, {'jop state': 'Metana', 'jop_title': 'Full Stack Developer Bootcamp - Job Guaranteed 🚀', 'jop_hour': 'Learn job-ready tech skills on your schedule with 1-on-1 support, daily stand up calls & get a job, or your money back.', 'company_region': 'Not Available'}, {'jop state': 'OpenCraft', 'jop_title': 'Sales Engineer for Open Source Software Team', 'jop_hour': 'Full-Time', 'company_region': 'Anywhere in the World'}, {'jop state': 'Report Owl LLC', 'jop_title': 'Remote Inside Sales', 'jop_hour': 'Contract', 'company_region': 'Anywhere in the World'}, {'jop state': 'UsedConex.com', 'jop_title': 'Remote Sales Chat Representative', 'jop_hour': 'Contract', 'company_region': 'USA Only'}, {'jop state': 'QuickMail', 'jop_title': 'Outbound Sales Development Rep.', 'jop_hour': 'Full-Time', 'company_region': 'Americas Only/Europe Only'}, {'jop state': 'Canonical', 'jop_title': 'Social Media Video Content Creator', 'jop_hour': 'Full-Time', 'company_region': 'EMEA Only'}, {'jop state': 'Google', 'jop_title': 'Account Strategist, Mid-Market Sales, Google Customer Solutions (Italian, English)', 'jop_hour': 'Full-Time', 'company_region': 'Europe Only'}, {'jop state': 'Microsoft', 'jop_title': 'Senior Product Marketing Manager', 'jop_hour': 'Full-Time', 'company_region': 'USA Only'}, {'jop state': 'Tiller', 'jop_title': 'Social Media Manager', 'jop_hour': 'Full-Time', 'company_region': 'Anywhere in the World'}, {'jop state': 'Toggl', 'jop_title': 'SEO Specialist', 'jop_hour': 'Full-Time', 'company_region': 'Anywhere in the World'}, {'jop state': 'Toggl', 'jop_title': 'Partnerships and Affiliates Manager', 'jop_hour': 'Full-Time', 'company_region': 'Anywhere in the World'}, {'jop state': 'hampr', 'jop_title': 'Account Executive - B2B Sales', 'jop_hour': 'Full-Time', 'company_region': 'Anywhere in the World'}]\n",
            "file created\n"
          ]
        }
      ],
      "source": [
        "import requests\n",
        "from bs4 import BeautifulSoup\n",
        "import csv\n",
        "url = 'https://weworkremotely.com/'\n",
        "page = requests.get(url)\n",
        "\n",
        "def main(page):\n",
        "  # Return code of page in bytes\n",
        "  src = page.content\n",
        "  # Parse code of page and return the real code of page\n",
        "  soup = BeautifulSoup(src, 'lxml')\n",
        "  arts = soup.find_all('article')\n",
        "  match_data = []\n",
        "\n",
        "  def jop_info(jops):\n",
        "      for jop in jops:\n",
        "          try:\n",
        "              jop_state = jop.find('span', {\"class\": \"company\"}).text.strip()\n",
        "              jop_title = jop.find('span', {\"class\": \"title\"}).text.strip()\n",
        "              jop_hour = jop.find_all('span', {\"class\": \"company\"})[1].text.strip() if len(jop.find_all('span', {\"class\": \"company\"})) > 1 else 'Not Available'\n",
        "              company_region = jop.find('span', {\"class\": \"region company\"}).text.strip() if jop.find('span', {\"class\": \"region company\"}) else 'Not Available'\n",
        "\n",
        "              match_data.append({\n",
        "                  \"jop state\": jop_state,\n",
        "                  'jop_title': jop_title,\n",
        "                  'jop_hour': jop_hour,\n",
        "                  \"company_region\": company_region\n",
        "              })\n",
        "          except AttributeError:\n",
        "              continue  # Skip any job listings that don't have the expected structure\n",
        "\n",
        "  # Extract job listings\n",
        "  group_jop1 = arts[0].find('ul').find_all('li', {\"class\": \"feature\"})\n",
        "  #jop_info(group_jop1)\n",
        "  for i in range(len(group_jop1)):\n",
        "    jop_info(group_jop1[i])\n",
        "\n",
        "  keys = match_data[0].keys()\n",
        "  print(match_data)\n",
        "  with open('test.csv','w') as fout:\n",
        "    header = csv.DictWriter(fout,keys)\n",
        "    header.writeheader()\n",
        "    header.writerows(match_data)\n",
        "    print('file created')\n",
        "\n",
        "main(page)"
      ]
    }
  ]
}